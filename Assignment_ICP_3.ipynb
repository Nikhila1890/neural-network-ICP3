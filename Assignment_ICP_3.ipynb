{
 "cells": [
  {
   "cell_type": "raw",
   "id": "5ccafc87",
   "metadata": {},
   "source": [
    "• Create a data member to count the number of Employees\n",
    "• Create a constructor to initialize name, family, salary, department\n",
    "• Create a function to average salary\n",
    "• Create a Fulltime Employee class and it should inherit the properties of Employee class\n",
    "• Create the instances of Fulltime Employee class and Employee class and call their member functions.\n"
   ]
  },
  {
   "cell_type": "code",
   "execution_count": 1,
   "id": "5a7b1d08",
   "metadata": {},
   "outputs": [
    {
     "name": "stdout",
     "output_type": "stream",
     "text": [
      "Average salary: $61666.67\n",
      "Total employees: 3\n"
     ]
    }
   ],
   "source": [
    "class Employee:\n",
    "    total_employees = 0\n",
    "\n",
    "    def __init__(self, name, family, salary, department):\n",
    "        self.name = name\n",
    "        self.family = family\n",
    "        self.salary = salary\n",
    "        self.department = department\n",
    "        Employee.total_employees += 1\n",
    "\n",
    "    def average_salary(self, employee_list):\n",
    "        total_salary = 0\n",
    "        for e in employee_list:\n",
    "            total_salary += e.salary\n",
    "        return total_salary / len(employee_list)\n",
    "\n",
    "class FulltimeEmployee(Employee):\n",
    "    def __init__(self, name, family, salary, department):\n",
    "        super().__init__(name, family, salary, department)\n",
    "\n",
    "# Creating instances of Employee and FulltimeEmployee classes\n",
    "employee1 = Employee(\"John Doe\", \"Family A\", 60000, \"HR\")\n",
    "employee2 = Employee(\"Jane Smith\", \"Family B\", 55000, \"IT\")\n",
    "fulltime_employee1 = FulltimeEmployee(\"Alice Johnson\", \"Family C\", 70000, \"Finance\")\n",
    "\n",
    "# Calling member functions\n",
    "employees = [employee1, employee2, fulltime_employee1]\n",
    "avg_salary = employee1.average_salary(employees)\n",
    "print(f\"Average salary: ${avg_salary:.2f}\")\n",
    "print(f\"Total employees: {Employee.total_employees}\")\n"
   ]
  },
  {
   "cell_type": "raw",
   "id": "1dc1ed81",
   "metadata": {},
   "source": [
    "Using NumPy create random vector of size 20 having only float in the range 1-20.\n",
    "Then reshape the array to 4 by 5\n",
    "Then replace the max in each row by 0 (axis=1)\n",
    "(you can NOT implement it via for loop)"
   ]
  },
  {
   "cell_type": "code",
   "execution_count": 4,
   "id": "3997484c",
   "metadata": {},
   "outputs": [
    {
     "name": "stdout",
     "output_type": "stream",
     "text": [
      "original vector :  [ 8.31969983  8.22770772 15.46706857  5.85497996  6.5977297  18.77718006\n",
      "  8.19340048 18.23597396  9.77059969 19.22849482  1.56804414  7.12578477\n",
      "  4.82872745  9.97115268 11.37729541  9.50377279 19.44146635 14.64188504\n",
      " 13.41158781 10.87453034]\n",
      "Original reshaped array:\n",
      "[[ 8.31969983  8.22770772  0.          5.85497996  6.5977297 ]\n",
      " [18.77718006  8.19340048 18.23597396  9.77059969  0.        ]\n",
      " [ 1.56804414  7.12578477  4.82872745  9.97115268  0.        ]\n",
      " [ 9.50377279  0.         14.64188504 13.41158781 10.87453034]]\n"
     ]
    }
   ],
   "source": [
    "import numpy as np\n",
    "\n",
    "# Create a random vector of size 20 with floats in the range 1-20\n",
    "random_vector = np.random.uniform(1, 20, size=20)\n",
    "\n",
    "print(\"original vector : \",random_vector)\n",
    "# Reshape the array to 4 by 5\n",
    "reshaped_array = random_vector.reshape(4, 5)\n",
    "\n",
    "# Replace the max value in each row with 0 along axis 1\n",
    "reshaped_array[np.arange(reshaped_array.shape[0]), np.argmax(reshaped_array, axis=1)] = 0\n",
    "\n",
    "print(\"Original reshaped array:\")\n",
    "print(reshaped_array)\n"
   ]
  }
 ],
 "metadata": {
  "kernelspec": {
   "display_name": "Python 3 (ipykernel)",
   "language": "python",
   "name": "python3"
  },
  "language_info": {
   "codemirror_mode": {
    "name": "ipython",
    "version": 3
   },
   "file_extension": ".py",
   "mimetype": "text/x-python",
   "name": "python",
   "nbconvert_exporter": "python",
   "pygments_lexer": "ipython3",
   "version": "3.11.4"
  }
 },
 "nbformat": 4,
 "nbformat_minor": 5
}
